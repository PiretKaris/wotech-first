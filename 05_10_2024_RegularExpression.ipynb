{
  "nbformat": 4,
  "nbformat_minor": 0,
  "metadata": {
    "colab": {
      "provenance": [],
      "authorship_tag": "ABX9TyPHvVp1gEmFPW8+ToRgyatd",
      "include_colab_link": true
    },
    "kernelspec": {
      "name": "python3",
      "display_name": "Python 3"
    },
    "language_info": {
      "name": "python"
    }
  },
  "cells": [
    {
      "cell_type": "markdown",
      "metadata": {
        "id": "view-in-github",
        "colab_type": "text"
      },
      "source": [
        "<a href=\"https://colab.research.google.com/github/PiretKaris/wotech-first/blob/main/05_10_2024_RegularExpression.ipynb\" target=\"_parent\"><img src=\"https://colab.research.google.com/assets/colab-badge.svg\" alt=\"Open In Colab\"/></a>"
      ]
    },
    {
      "cell_type": "code",
      "execution_count": 1,
      "metadata": {
        "id": "37TvVaZuk9Ce"
      },
      "outputs": [],
      "source": [
        "import re # regular expression module"
      ]
    },
    {
      "cell_type": "code",
      "source": [
        "text = \"\"\"\n",
        "Alice: 555-123-4567\n",
        "Bob: 333-987-6543\n",
        "Charlie: 777-555-88\n",
        "\"\"\""
      ],
      "metadata": {
        "id": "Nx-8q9eplC1h"
      },
      "execution_count": 2,
      "outputs": []
    },
    {
      "cell_type": "code",
      "source": [
        "text"
      ],
      "metadata": {
        "colab": {
          "base_uri": "https://localhost:8080/",
          "height": 35
        },
        "id": "t0VoZ1thlIhL",
        "outputId": "934534cb-41b3-4c16-a6af-c139e1e462cc"
      },
      "execution_count": 3,
      "outputs": [
        {
          "output_type": "execute_result",
          "data": {
            "text/plain": [
              "'\\nAlice: 555-123-4567\\nBob: 333-987-6543\\nCharlie: 777-555-88\\n'"
            ],
            "application/vnd.google.colaboratory.intrinsic+json": {
              "type": "string"
            }
          },
          "metadata": {},
          "execution_count": 3
        }
      ]
    },
    {
      "cell_type": "code",
      "source": [
        "# correct format is 3-3-4\n",
        "\n",
        "pattern = r'\\d{3}-\\d{3}-\\d{4}' # figure out the pattern\n",
        "\n",
        "matches = re.findall(pattern, text)\n",
        "\n",
        "# required output: 555-123-4567, 333-87-6543"
      ],
      "metadata": {
        "id": "QoEhvgkglpSR"
      },
      "execution_count": 8,
      "outputs": []
    },
    {
      "cell_type": "code",
      "source": [
        "print(matches)"
      ],
      "metadata": {
        "colab": {
          "base_uri": "https://localhost:8080/"
        },
        "id": "QWsDgwrwn_MT",
        "outputId": "189f9485-e44b-47a0-b040-30d050914d1a"
      },
      "execution_count": 9,
      "outputs": [
        {
          "output_type": "stream",
          "name": "stdout",
          "text": [
            "['555-123-4567', '333-987-6543']\n"
          ]
        }
      ]
    },
    {
      "cell_type": "code",
      "source": [
        "# re.search - first occurance of a pattern\n",
        "# re.findall - finds all the occurances\n",
        "# re.IGNORECASE - pattern matching is case-insensitive"
      ],
      "metadata": {
        "id": "37XO4m9nlSRg"
      },
      "execution_count": null,
      "outputs": []
    },
    {
      "cell_type": "markdown",
      "source": [
        "## Dates pattern matching\n"
      ],
      "metadata": {
        "id": "ta3o9mFYpqBm"
      }
    },
    {
      "cell_type": "code",
      "source": [
        "dates = \"\"\"\n",
        "My dates are: 05-10-2024 and 2022-10-05\n",
        "\"\"\"\n",
        "\n",
        "pattern2 = r'\\d{2}-\\d{2}-\\d{4}'\n",
        "\n",
        "matches2 = re.findall(pattern2, dates)\n",
        "\n",
        "print(matches2)"
      ],
      "metadata": {
        "colab": {
          "base_uri": "https://localhost:8080/"
        },
        "id": "YsuW2jPopwDL",
        "outputId": "1a505a82-226d-4ab1-98cd-db5d29a18e40"
      },
      "execution_count": 12,
      "outputs": [
        {
          "output_type": "stream",
          "name": "stdout",
          "text": [
            "['05-10-2024']\n"
          ]
        }
      ]
    },
    {
      "cell_type": "markdown",
      "source": [
        "## E-mail addresses matching"
      ],
      "metadata": {
        "id": "W1RGSIb6rnib"
      }
    },
    {
      "cell_type": "code",
      "source": [
        "emails = \"\"\"\n",
        "E-mails: liza@example.com, roberta.ra@gmail.com, info@company.net\n",
        "\"\"\"\n",
        "\n",
        "pattern3 = r'\\w+@\\w+\\.\\w+'\n",
        "\n",
        "matches3 = re.findall(pattern3, emails)\n",
        "\n",
        "print(matches3)"
      ],
      "metadata": {
        "colab": {
          "base_uri": "https://localhost:8080/"
        },
        "id": "xSP4dNW2ruhY",
        "outputId": "23db2716-4518-4963-a4de-440489afede6"
      },
      "execution_count": 19,
      "outputs": [
        {
          "output_type": "stream",
          "name": "stdout",
          "text": [
            "['liza@example.com', 'ra@gmail.com', 'info@company.net']\n"
          ]
        }
      ]
    },
    {
      "cell_type": "code",
      "source": [
        "my_interesting_letters = r'\\b[A-Za-z0-9._%+-]+@[A-Za-z0-9.-]+\\.[A-Z|a-z]{2,}\\b'\n",
        "\n",
        "# requested output ['liza@example.com', 'roberta@gmail.com', 'info@company.net']\n",
        "\n",
        "matches = re.findall(my_interesting_letters, emails)\n",
        "\n",
        "print(matches)"
      ],
      "metadata": {
        "colab": {
          "base_uri": "https://localhost:8080/"
        },
        "id": "IOJDTFeMvTlu",
        "outputId": "f0d7865b-1dc0-4771-f074-bc6ebe78b216"
      },
      "execution_count": 20,
      "outputs": [
        {
          "output_type": "stream",
          "name": "stdout",
          "text": [
            "['liza@example.com', 'roberta.ra@gmail.com', 'info@company.net']\n"
          ]
        }
      ]
    }
  ]
}